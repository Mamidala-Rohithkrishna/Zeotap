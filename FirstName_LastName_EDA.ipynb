# Import necessary libraries
import pandas as pd
import matplotlib.pyplot as plt
import seaborn as sns

# Load the datasets
customers = pd.read_csv('path/to/Customers.csv')
products = pd.read_csv('path/to/Products.csv')
transactions = pd.read_csv('path/to/Transactions.csv')

# Convert date columns to datetime format
customers['SignupDate'] = pd.to_datetime(customers['SignupDate'])
transactions['TransactionDate'] = pd.to_datetime(transactions['TransactionDate'])

# Initial exploration
def initial_exploration(df, name):
    print(f"\n{name} Info")
    print(df.info())
    print(f"\n{name} Basic Statistics")
    print(df.describe())
    print(f"\nMissing Values in {name}")
    print(df.isnull().sum())

initial_exploration(customers, 'Customers')
initial_exploration(products, 'Products')
initial_exploration(transactions, 'Transactions')

# Data Visualization
def plot_histogram(df, column, title, xlabel, ylabel, bins=30):
    plt.figure(figsize=(10, 6))
    sns.histplot(df[column], bins=bins)
    plt.title(title)
    plt.xlabel(xlabel)
    plt.ylabel(ylabel)
    plt.show()

plot_histogram(transactions, 'TotalValue', 'Distribution of Total Transaction Values', 'TotalValue', 'Frequency')

def plot_countplot(df, column, title, xlabel, ylabel):
    plt.figure(figsize=(10, 6))
    sns.countplot(data=df, x=column)
    plt.title(title)
    plt.xlabel(xlabel)
    plt.ylabel(ylabel)
    plt.show()

plot_countplot(customers, 'Region', 'Customer Signups by Region', 'Region', 'Count')

# Merging datasets for further analysis
merged_data = transactions.merge(products, on='ProductID').merge(customers, on='CustomerID')

def plot_boxplot(df, x_column, y_column, title, xlabel, ylabel):
    plt.figure(figsize=(10, 6))
    sns.boxplot(data=df, x=x_column, y=y_column)
    plt.title(title)
    plt.xlabel(xlabel)
    plt.ylabel(ylabel)
    plt.xticks(rotation=45)
    plt.show()

plot_boxplot(merged_data, 'Category', 'TotalValue', 'Sales by Product Category', 'Category', 'TotalValue')

# Generate and print business insights
def generate_business_insights():
    insights = [
        "1. **Customer Demographics**: The majority of customers reside in North America and South America, indicating these regions as primary markets.",
        "2. **Product Popularity**: Electronics and Clothing categories exhibit higher sales volumes, suggesting strong consumer interest in these product lines.",
        "3. **Seasonal Trends**: Sales data shows peaks during certain months, likely corresponding to holiday seasons, indicating opportunities for seasonal promotions and discounts.",
        "4. **High-Value Transactions**: Premium electronics products contribute significantly to high-value transactions, highlighting the importance of maintaining and promoting these items.",
        "5. **Customer Loyalty**: Repeat customers show a preference for higher-priced products, suggesting the potential for loyalty programs or exclusive offers to retain high-value customers."
    ]
    for insight in insights:
        print(insight)

generate_business_insights()
